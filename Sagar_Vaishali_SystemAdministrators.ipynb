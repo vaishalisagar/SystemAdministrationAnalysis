{
 "cells": [
  {
   "cell_type": "markdown",
   "id": "f383509e",
   "metadata": {},
   "source": [
    "<img src=\"https://upload.wikimedia.org/wikipedia/commons/f/f3/W._P._Carey_School_of_Business_logo.png\" width=15% align=left> <br><br>\n",
    "<img src=\"\">"
   ]
  },
  {
   "cell_type": "markdown",
   "id": "094f1649",
   "metadata": {},
   "source": [
    "# Table of Content: <a class=\"anchor\" id=\"table-of-content\"></a>\n",
    "* [1. Problem Background and Motivation](#problem-background)\n",
    "* [2. EDA & Data Preparing](#Data-Prep)\n",
    "* [3. Machine Learning Models](#ml-models)\n",
    "* [4. Deployment of Model](#model-deployment)"
   ]
  },
  {
   "cell_type": "markdown",
   "id": "1df71bae",
   "metadata": {},
   "source": [
    "\n",
    "# 1. Problem Background and Motivation <a class=\"anchor\" id=\"problem-background\"></a>\n",
    "    \n",
    ">**1.1 Problem Statement**<br>\n",
    ">- Assumption - It is problem in a MNC, where the firm has landed a huge project and it involved some system administration tasks.Hence, operation leadership is running out the resources and hiring new resources will add additional cost to the firm. Hence they are training the exsisting employees to accomplish the task involved in the new project. \n",
    "\n",
    ">**1.2 Importance of the Analysis**<br>\n",
    ">-  The analysis will help the organisation to know whether the task will be complished or not if the employee has given experience and effectiveness of the trainings given. Also the firm wants to understand the performance of employee after the trainings on some new modules. The same analysis can be used in anywhere operations, university, institutes, agencies, etc\n",
    "\n",
    ">**1.3 Stakeholders**<br> \n",
    ">- For this problem, Newly built Operation team of a Multi National Company is the key stakeholders, as they will detect whether a task is completed or not. This helps in evaluting the importance of the trainings provided which help the employee upskill instead of hiring new resources and make profit for the organisation. However, the bigger agenda is that whether they will be able to successfully complete the project or not based on these task prediction\n",
    "\n",
    ">**1.4 End Goal**<br>\n",
    ">- Accurate analysis, testing and classification of task and back the story by data provided.    \n",
    "\n",
    "* [Go to Top](#table-of-content)"
   ]
  },
  {
   "cell_type": "markdown",
   "id": "5c84859d",
   "metadata": {},
   "source": [
    "# 2. EDA & Data Preparation <a class=\"anchor\" id=\"Data-Prep\"></a>\n"
   ]
  },
  {
   "cell_type": "markdown",
   "id": "bc9fbc70",
   "metadata": {},
   "source": [
    "#### Importing the Libraries & Custom Functions <a class=\"anchor\" id=\"import-packages\"></a>\n",
    ">- Pandas : \n",
    "Used for data manipluation. Refer to Pandas Cheatsheet : https://www.datacamp.com/cheat-sheet/pandas-cheat-sheet-for-data-science-in-python <br>\n",
    ">- Scikit-learn :\n",
    "Useful and robust library for machine learning. Refer to SKlearn documentation : https://scikit-learn.org/stable/user_guide.html\n",
    ">- class_perf_measures() : A custom function, which calculates the mean of the target variable w.r.t to every categorical variable type and give the difference "
   ]
  },
  {
   "cell_type": "code",
   "execution_count": 1,
   "id": "66f7980c",
   "metadata": {},
   "outputs": [],
   "source": [
    "import pandas as pd\n",
    "pd.set_option('display.max_columns', None)\n",
    "pd.options.display.float_format = '{:.2f}'.format\n",
    "import numpy as np\n",
    "\n",
    "# Graphics\n",
    "import seaborn as sns\n",
    "import matplotlib.pyplot as plt\n",
    "import plotly.graph_objects as go\n",
    "\n",
    "# ML\n",
    "from sklearn.model_selection import train_test_split\n",
    "from sklearn.linear_model import LogisticRegression\n",
    "from sklearn.neighbors import NearestNeighbors, KNeighborsClassifier\n",
    "from sklearn import metrics\n",
    "\n",
    "\n",
    "# Custom function below is used to display performance measures\n",
    "# Required inputs are the model name and the two test data objects (X,y)\n",
    "def class_perf_measures(model,X_test,y_test):\n",
    "    # Create empty lists to store metric values created within loop\n",
    "    TP = []\n",
    "    TN = []\n",
    "    FP = []\n",
    "    FN = []\n",
    "    recall = []\n",
    "    precision = []\n",
    "    F1 = []\n",
    "    Accuracy = []\n",
    "    \n",
    "    # Create list of probability threshold values to loop over\n",
    "    threshold = np.arange(0,1.1,0.1).tolist()\n",
    "\n",
    "    # Start loop\n",
    "    for i in threshold:\n",
    "\n",
    "        # Create class assignments given threshold value\n",
    "        y_test_pred_class = (model.predict_proba(X_test)[:,1] >= i).astype(int)\n",
    "\n",
    "        # Append lists with metric values\n",
    "        TP.append(metrics.confusion_matrix(y_test, y_test_pred_class)[1,1])\n",
    "        TN.append(metrics.confusion_matrix(y_test, y_test_pred_class)[0,0])\n",
    "        FP.append(metrics.confusion_matrix(y_test, y_test_pred_class)[0,1])\n",
    "        FN.append(metrics.confusion_matrix(y_test, y_test_pred_class)[1,0])\n",
    "        recall.append(metrics.recall_score(y_test, y_test_pred_class).round(3))\n",
    "        precision.append(metrics.precision_score(y_test, y_test_pred_class).round(3))\n",
    "        F1.append(metrics.f1_score(y_test, y_test_pred_class).round(2))\n",
    "        Accuracy.append(metrics.accuracy_score(y_test, y_test_pred_class).round(2))\n",
    " \n",
    "    # Create dataframe\n",
    "    result = pd.DataFrame({\"threshold\":threshold,\n",
    "                           \"TP\":TP,\n",
    "                           \"TN\":TN,\n",
    "                           \"FP\":FP,\n",
    "                           \"FN\":FN,\n",
    "                           \"Precision\":precision,\n",
    "                           \"Recall\":recall,\n",
    "                           \"Accuracy\": Accuracy,\n",
    "                           \"F1 Score\" : F1\n",
    "                          })\n",
    "\n",
    "    # Let's look at our dataframe\n",
    "    return result"
   ]
  },
  {
   "cell_type": "markdown",
   "id": "e0384147",
   "metadata": {},
   "source": [
    "#### Reading the data   <a class=\"anchor\" id=\"read-data\"></a>\n",
    ">- Link for reading multiple types of input files https://pandas.pydata.org/docs/reference/api/pandas.read_excel.html\n",
    ">- Note: Shift+Tab to look at the parameters any function can take/documentation\n",
    "* [Go to Top](#table-of-content)"
   ]
  },
  {
   "cell_type": "code",
   "execution_count": 2,
   "id": "036bcc13",
   "metadata": {},
   "outputs": [],
   "source": [
    "#Reading the data\n",
    "pd.set_option('display.max_columns', None)\n",
    "df = pd.read_csv('SystemAdministrators.csv') \n",
    "#df.head() #df.tail()"
   ]
  },
  {
   "cell_type": "markdown",
   "id": "f8a23cca",
   "metadata": {},
   "source": [
    "#### Descriptive Analysis <a class=\"anchor\" id=\"EDA\"></a>\n",
    "There are some common steps followed during any analysis however, may differ data to data. Keep following in mind:\n",
    "\n",
    "- [Initial Evaluation](#initial-evaluation)\n",
    "- [Initial Cleanup - dupes, missing values](#missing-values)\n",
    "- [Outlier Detection & Treatment](#outliers)\n",
    "- [Feature Selection](#feature-selection)\n",
    "- [Data Partitioning](#data-split)\n",
    "- [Data Normalization](#normalization)\n",
    "\n",
    "\n",
    "\n",
    "* [Go to Top](#table-of-content)"
   ]
  },
  {
   "cell_type": "code",
   "execution_count": 3,
   "id": "d438e861",
   "metadata": {
    "scrolled": true
   },
   "outputs": [
    {
     "name": "stdout",
     "output_type": "stream",
     "text": [
      "<class 'pandas.core.frame.DataFrame'>\n",
      "RangeIndex: 75 entries, 0 to 74\n",
      "Data columns (total 5 columns):\n",
      " #   Column               Non-Null Count  Dtype  \n",
      "---  ------               --------------  -----  \n",
      " 0   task_completed       75 non-null     int64  \n",
      " 1   employee_experience  75 non-null     float64\n",
      " 2   training_level4      75 non-null     int64  \n",
      " 3   training_level6      75 non-null     int64  \n",
      " 4   training_level8      75 non-null     int64  \n",
      "dtypes: float64(1), int64(4)\n",
      "memory usage: 3.1 KB\n"
     ]
    }
   ],
   "source": [
    "df.info()"
   ]
  },
  {
   "cell_type": "markdown",
   "id": "3a5bb19c",
   "metadata": {},
   "source": [
    "### Initial Observations\n",
    ">- **Rows- 75 & Columns- 5** (1: float, 4: int)\n",
    ">- **Data Interpretation** <br><br>\n",
    "| #   | Column              |                        Comments                        |   |   |\n",
    "|-----|---------------------|:------------------------------------------------------:|:-:|---|\n",
    "| 0   | task_completed      | Target Variable - whether the task is completed or not |   |   |\n",
    "| 1   | employee_experience | Number of years of experience                          |   |   |\n",
    "| 2   | training_level4     | Training Level                                         |   |   |\n",
    "| 3   | training_level6     | Training Level                                         |   |   |\n",
    "| 4   | training_level8     | Training Level                                         |   |   |\n",
    "\n",
    ">- **Target Variable: task_completed** <br>"
   ]
  },
  {
   "cell_type": "code",
   "execution_count": 4,
   "id": "9c31459c",
   "metadata": {
    "scrolled": true
   },
   "outputs": [
    {
     "data": {
      "text/html": [
       "<div>\n",
       "<style scoped>\n",
       "    .dataframe tbody tr th:only-of-type {\n",
       "        vertical-align: middle;\n",
       "    }\n",
       "\n",
       "    .dataframe tbody tr th {\n",
       "        vertical-align: top;\n",
       "    }\n",
       "\n",
       "    .dataframe thead th {\n",
       "        text-align: right;\n",
       "    }\n",
       "</style>\n",
       "<table border=\"1\" class=\"dataframe\">\n",
       "  <thead>\n",
       "    <tr style=\"text-align: right;\">\n",
       "      <th></th>\n",
       "      <th>task_completed</th>\n",
       "      <th>employee_experience</th>\n",
       "      <th>training_level4</th>\n",
       "      <th>training_level6</th>\n",
       "      <th>training_level8</th>\n",
       "    </tr>\n",
       "  </thead>\n",
       "  <tbody>\n",
       "    <tr>\n",
       "      <th>count</th>\n",
       "      <td>75.00</td>\n",
       "      <td>75.00</td>\n",
       "      <td>75.00</td>\n",
       "      <td>75.00</td>\n",
       "      <td>75.00</td>\n",
       "    </tr>\n",
       "    <tr>\n",
       "      <th>mean</th>\n",
       "      <td>0.20</td>\n",
       "      <td>6.80</td>\n",
       "      <td>0.76</td>\n",
       "      <td>0.17</td>\n",
       "      <td>0.07</td>\n",
       "    </tr>\n",
       "    <tr>\n",
       "      <th>std</th>\n",
       "      <td>0.40</td>\n",
       "      <td>2.27</td>\n",
       "      <td>0.43</td>\n",
       "      <td>0.38</td>\n",
       "      <td>0.25</td>\n",
       "    </tr>\n",
       "    <tr>\n",
       "      <th>min</th>\n",
       "      <td>0.00</td>\n",
       "      <td>2.70</td>\n",
       "      <td>0.00</td>\n",
       "      <td>0.00</td>\n",
       "      <td>0.00</td>\n",
       "    </tr>\n",
       "    <tr>\n",
       "      <th>25%</th>\n",
       "      <td>0.00</td>\n",
       "      <td>5.20</td>\n",
       "      <td>1.00</td>\n",
       "      <td>0.00</td>\n",
       "      <td>0.00</td>\n",
       "    </tr>\n",
       "    <tr>\n",
       "      <th>50%</th>\n",
       "      <td>0.00</td>\n",
       "      <td>6.30</td>\n",
       "      <td>1.00</td>\n",
       "      <td>0.00</td>\n",
       "      <td>0.00</td>\n",
       "    </tr>\n",
       "    <tr>\n",
       "      <th>75%</th>\n",
       "      <td>0.00</td>\n",
       "      <td>7.85</td>\n",
       "      <td>1.00</td>\n",
       "      <td>0.00</td>\n",
       "      <td>0.00</td>\n",
       "    </tr>\n",
       "    <tr>\n",
       "      <th>max</th>\n",
       "      <td>1.00</td>\n",
       "      <td>13.70</td>\n",
       "      <td>1.00</td>\n",
       "      <td>1.00</td>\n",
       "      <td>1.00</td>\n",
       "    </tr>\n",
       "  </tbody>\n",
       "</table>\n",
       "</div>"
      ],
      "text/plain": [
       "       task_completed  employee_experience  training_level4  training_level6  \\\n",
       "count           75.00                75.00            75.00            75.00   \n",
       "mean             0.20                 6.80             0.76             0.17   \n",
       "std              0.40                 2.27             0.43             0.38   \n",
       "min              0.00                 2.70             0.00             0.00   \n",
       "25%              0.00                 5.20             1.00             0.00   \n",
       "50%              0.00                 6.30             1.00             0.00   \n",
       "75%              0.00                 7.85             1.00             0.00   \n",
       "max              1.00                13.70             1.00             1.00   \n",
       "\n",
       "       training_level8  \n",
       "count            75.00  \n",
       "mean              0.07  \n",
       "std               0.25  \n",
       "min               0.00  \n",
       "25%               0.00  \n",
       "50%               0.00  \n",
       "75%               0.00  \n",
       "max               1.00  "
      ]
     },
     "execution_count": 4,
     "metadata": {},
     "output_type": "execute_result"
    }
   ],
   "source": [
    "df.describe()"
   ]
  },
  {
   "cell_type": "markdown",
   "id": "22790439",
   "metadata": {},
   "source": [
    "#### Missing & Duplicates Records\n",
    "\n",
    "* [Go to Top](#table-of-content)"
   ]
  },
  {
   "cell_type": "code",
   "execution_count": 5,
   "id": "f2f03e6a",
   "metadata": {},
   "outputs": [
    {
     "name": "stdout",
     "output_type": "stream",
     "text": [
      "False    64\n",
      "True     11\n",
      "dtype: int64\n"
     ]
    },
    {
     "data": {
      "text/plain": [
       "(75, 5)"
      ]
     },
     "execution_count": 5,
     "metadata": {},
     "output_type": "execute_result"
    }
   ],
   "source": [
    "#counting the duplicates\n",
    "print(df.duplicated().value_counts())                             \n",
    "df.shape                                                          "
   ]
  },
  {
   "cell_type": "code",
   "execution_count": 6,
   "id": "fbc3906c",
   "metadata": {},
   "outputs": [
    {
     "data": {
      "text/plain": [
       "task_completed         0\n",
       "employee_experience    0\n",
       "training_level4        0\n",
       "training_level6        0\n",
       "training_level8        0\n",
       "dtype: int64"
      ]
     },
     "execution_count": 6,
     "metadata": {},
     "output_type": "execute_result"
    }
   ],
   "source": [
    "#Finding and treating missing values\n",
    "df.isnull().sum()                                                 "
   ]
  },
  {
   "cell_type": "markdown",
   "id": "ee2fec50",
   "metadata": {},
   "source": [
    "#### Outlier Detection and Treatment \n",
    "\n",
    "* [Go to Top](#table-of-content)"
   ]
  },
  {
   "cell_type": "code",
   "execution_count": 7,
   "id": "62bf13b6",
   "metadata": {},
   "outputs": [],
   "source": [
    "#working on numerical columns first\n",
    "numerics = ['int16', 'int32', 'int64', 'float16', 'float32', 'float64']\n",
    "df_numeric = df.select_dtypes(include=numerics)"
   ]
  },
  {
   "cell_type": "code",
   "execution_count": 8,
   "id": "5f2263b5",
   "metadata": {
    "scrolled": true
   },
   "outputs": [
    {
     "data": {
      "text/html": [
       "<div>\n",
       "<style scoped>\n",
       "    .dataframe tbody tr th:only-of-type {\n",
       "        vertical-align: middle;\n",
       "    }\n",
       "\n",
       "    .dataframe tbody tr th {\n",
       "        vertical-align: top;\n",
       "    }\n",
       "\n",
       "    .dataframe thead th {\n",
       "        text-align: right;\n",
       "    }\n",
       "</style>\n",
       "<table border=\"1\" class=\"dataframe\">\n",
       "  <thead>\n",
       "    <tr style=\"text-align: right;\">\n",
       "      <th></th>\n",
       "      <th>mean</th>\n",
       "      <th>median</th>\n",
       "      <th>std_dev</th>\n",
       "      <th>min_val</th>\n",
       "      <th>max_val</th>\n",
       "      <th>missing_vals</th>\n",
       "    </tr>\n",
       "  </thead>\n",
       "  <tbody>\n",
       "    <tr>\n",
       "      <th>task_completed</th>\n",
       "      <td>0.20</td>\n",
       "      <td>0.00</td>\n",
       "      <td>0.40</td>\n",
       "      <td>0.00</td>\n",
       "      <td>1.00</td>\n",
       "      <td>0</td>\n",
       "    </tr>\n",
       "    <tr>\n",
       "      <th>employee_experience</th>\n",
       "      <td>6.80</td>\n",
       "      <td>6.30</td>\n",
       "      <td>2.27</td>\n",
       "      <td>2.70</td>\n",
       "      <td>13.70</td>\n",
       "      <td>0</td>\n",
       "    </tr>\n",
       "    <tr>\n",
       "      <th>training_level4</th>\n",
       "      <td>0.76</td>\n",
       "      <td>1.00</td>\n",
       "      <td>0.43</td>\n",
       "      <td>0.00</td>\n",
       "      <td>1.00</td>\n",
       "      <td>0</td>\n",
       "    </tr>\n",
       "    <tr>\n",
       "      <th>training_level6</th>\n",
       "      <td>0.17</td>\n",
       "      <td>0.00</td>\n",
       "      <td>0.38</td>\n",
       "      <td>0.00</td>\n",
       "      <td>1.00</td>\n",
       "      <td>0</td>\n",
       "    </tr>\n",
       "    <tr>\n",
       "      <th>training_level8</th>\n",
       "      <td>0.07</td>\n",
       "      <td>0.00</td>\n",
       "      <td>0.25</td>\n",
       "      <td>0.00</td>\n",
       "      <td>1.00</td>\n",
       "      <td>0</td>\n",
       "    </tr>\n",
       "  </tbody>\n",
       "</table>\n",
       "</div>"
      ],
      "text/plain": [
       "                     mean  median  std_dev  min_val  max_val  missing_vals\n",
       "task_completed       0.20    0.00     0.40     0.00     1.00             0\n",
       "employee_experience  6.80    6.30     2.27     2.70    13.70             0\n",
       "training_level4      0.76    1.00     0.43     0.00     1.00             0\n",
       "training_level6      0.17    0.00     0.38     0.00     1.00             0\n",
       "training_level8      0.07    0.00     0.25     0.00     1.00             0"
      ]
     },
     "execution_count": 8,
     "metadata": {},
     "output_type": "execute_result"
    }
   ],
   "source": [
    "pd.DataFrame(dict(mean = df_numeric.mean().round(2),\n",
    "                  median = df_numeric.median().round(2),\n",
    "                  std_dev = df_numeric.std().round(2),\n",
    "                  min_val = df_numeric.min(),\n",
    "                  max_val = df_numeric.max(),\n",
    "                  missing_vals = df_numeric.isnull().sum()\n",
    "                  \n",
    "                 ))"
   ]
  },
  {
   "cell_type": "markdown",
   "id": "9681d099",
   "metadata": {},
   "source": [
    "## Feature Selection"
   ]
  },
  {
   "cell_type": "markdown",
   "id": "6eb4ac68",
   "metadata": {},
   "source": [
    "> **Data Partitioning** <a class=\"anchor\" id=\"data-split\"></a>\n",
    "<br>\n",
    ">To Do:<br>\n",
    ">1. Put all potential predictor variables into new object called 'X'.(dropping the sensitive data)\n",
    ">2. Put target variable in new object called 'y'\n",
    ">3. Partition data into training set and testing set<br>\n",
    ">4. Since the size of the data is small, taking the smaller subset of test data\n",
    "\n",
    ">This is simple for now - may need to add more sampling complexity in future\n",
    "\n",
    "* [Go to Top](#table-of-content)"
   ]
  },
  {
   "cell_type": "code",
   "execution_count": 9,
   "id": "368c0fcc",
   "metadata": {},
   "outputs": [],
   "source": [
    "target = ['task_completed']"
   ]
  },
  {
   "cell_type": "code",
   "execution_count": 10,
   "id": "0a83c9b9",
   "metadata": {},
   "outputs": [],
   "source": [
    "X = df.drop(target,axis=1)\n",
    "y = df[target]"
   ]
  },
  {
   "cell_type": "code",
   "execution_count": 11,
   "id": "3e76cd0f",
   "metadata": {},
   "outputs": [],
   "source": [
    "# Split data\n",
    "X_train,X_test,y_train,y_test = train_test_split(X,y, test_size=0.2,random_state=4)"
   ]
  },
  {
   "cell_type": "markdown",
   "id": "d96e0ae4",
   "metadata": {},
   "source": [
    "> **Data Normalization** <a class=\"anchor\" id=\"normalization\"></a>\n",
    "<br><br>\n",
    ">**Note:**<br>\n",
    ">We do this AFTER splitting the data because we only want to use summary stats<br>\n",
    ">from the TRAINING data to normalize BOTH TRAIN and TEST data<br>\n",
    "<br><br>\n",
    "\n",
    "* [Go to Top](#table-of-content)"
   ]
  },
  {
   "cell_type": "markdown",
   "id": "349de2a1",
   "metadata": {},
   "source": [
    "#### Normalize predictor variables using Z-Scores.\n",
    " Use means and standard deviations of features as calculated in the TRAINING DATA\n",
    " New values are centered at 0.  Values reflect the number of standard deviations\n",
    " each record is above or below the mean."
   ]
  },
  {
   "cell_type": "code",
   "execution_count": 12,
   "id": "510bccae",
   "metadata": {},
   "outputs": [],
   "source": [
    "features_means = X_train.mean()\n",
    "features_std = X_train.std()\n",
    "\n",
    "X_train = (X_train - features_means)/features_std\n",
    "X_test = (X_test - features_means)/features_std"
   ]
  },
  {
   "cell_type": "markdown",
   "id": "24141628",
   "metadata": {},
   "source": [
    "### Initial Summary:\n",
    "\n",
    ">- Dataframe - (75,5)\n",
    ">-Target Variable - task_completed\n",
    ">-Mising Values - No\n",
    ">- Duplicates - Yes (not removing them, a per the data, same task can be achieved with the same years of experience and level of trainings \n",
    ">-Outliers - No major skewness in the data, will circle back if needed\n",
    ">-Feature Selection - Including everthing for now\n",
    ">-Data Normalisation - Essential for KNN model\n",
    "\n",
    "* [Go to Top](#table-of-content)"
   ]
  },
  {
   "cell_type": "markdown",
   "id": "bff1b87d",
   "metadata": {},
   "source": [
    "## Machine Learning Models <a class=\"anchor\" id=\"ml-models\"></a>"
   ]
  },
  {
   "cell_type": "markdown",
   "id": "5a5a5b4e",
   "metadata": {},
   "source": [
    "> **Model 1 - kNN** <a class=\"anchor\" id=\"first-model\"></a>\n",
    "<br>\n",
    ">To do:<br>\n",
    ">1. Fit numerous kNN models using different values for k. <br>\n",
    ">2. Choose the \"best\" value for \"k\" based on Accuracy using the plot"
   ]
  },
  {
   "cell_type": "code",
   "execution_count": 13,
   "id": "627ad9ff",
   "metadata": {},
   "outputs": [
    {
     "data": {
      "text/html": [
       "<div>\n",
       "<style scoped>\n",
       "    .dataframe tbody tr th:only-of-type {\n",
       "        vertical-align: middle;\n",
       "    }\n",
       "\n",
       "    .dataframe tbody tr th {\n",
       "        vertical-align: top;\n",
       "    }\n",
       "\n",
       "    .dataframe thead th {\n",
       "        text-align: right;\n",
       "    }\n",
       "</style>\n",
       "<table border=\"1\" class=\"dataframe\">\n",
       "  <thead>\n",
       "    <tr style=\"text-align: right;\">\n",
       "      <th></th>\n",
       "      <th>k</th>\n",
       "      <th>accuracy</th>\n",
       "      <th>recall</th>\n",
       "    </tr>\n",
       "  </thead>\n",
       "  <tbody>\n",
       "    <tr>\n",
       "      <th>0</th>\n",
       "      <td>1</td>\n",
       "      <td>0.67</td>\n",
       "      <td>0.33</td>\n",
       "    </tr>\n",
       "    <tr>\n",
       "      <th>1</th>\n",
       "      <td>3</td>\n",
       "      <td>0.73</td>\n",
       "      <td>0.33</td>\n",
       "    </tr>\n",
       "    <tr>\n",
       "      <th>2</th>\n",
       "      <td>5</td>\n",
       "      <td>0.73</td>\n",
       "      <td>0.33</td>\n",
       "    </tr>\n",
       "    <tr>\n",
       "      <th>3</th>\n",
       "      <td>7</td>\n",
       "      <td>0.80</td>\n",
       "      <td>0.67</td>\n",
       "    </tr>\n",
       "    <tr>\n",
       "      <th>4</th>\n",
       "      <td>9</td>\n",
       "      <td>0.87</td>\n",
       "      <td>0.67</td>\n",
       "    </tr>\n",
       "    <tr>\n",
       "      <th>5</th>\n",
       "      <td>11</td>\n",
       "      <td>0.87</td>\n",
       "      <td>0.67</td>\n",
       "    </tr>\n",
       "    <tr>\n",
       "      <th>6</th>\n",
       "      <td>13</td>\n",
       "      <td>0.80</td>\n",
       "      <td>0.33</td>\n",
       "    </tr>\n",
       "    <tr>\n",
       "      <th>7</th>\n",
       "      <td>15</td>\n",
       "      <td>0.87</td>\n",
       "      <td>0.33</td>\n",
       "    </tr>\n",
       "    <tr>\n",
       "      <th>8</th>\n",
       "      <td>17</td>\n",
       "      <td>0.87</td>\n",
       "      <td>0.33</td>\n",
       "    </tr>\n",
       "    <tr>\n",
       "      <th>9</th>\n",
       "      <td>19</td>\n",
       "      <td>0.87</td>\n",
       "      <td>0.33</td>\n",
       "    </tr>\n",
       "    <tr>\n",
       "      <th>10</th>\n",
       "      <td>21</td>\n",
       "      <td>0.87</td>\n",
       "      <td>0.33</td>\n",
       "    </tr>\n",
       "  </tbody>\n",
       "</table>\n",
       "</div>"
      ],
      "text/plain": [
       "     k  accuracy  recall\n",
       "0    1      0.67    0.33\n",
       "1    3      0.73    0.33\n",
       "2    5      0.73    0.33\n",
       "3    7      0.80    0.67\n",
       "4    9      0.87    0.67\n",
       "5   11      0.87    0.67\n",
       "6   13      0.80    0.33\n",
       "7   15      0.87    0.33\n",
       "8   17      0.87    0.33\n",
       "9   19      0.87    0.33\n",
       "10  21      0.87    0.33"
      ]
     },
     "execution_count": 13,
     "metadata": {},
     "output_type": "execute_result"
    }
   ],
   "source": [
    "# 1. train a classifier for different values of k\n",
    "results = []\n",
    "for k in [1,3,5,7,9,11,13,15,17,19,21]: #np.arange(1,45):  \n",
    "    knn = KNeighborsClassifier(n_neighbors=k)\n",
    "    knn.fit(X_train,y_train.values.ravel())\n",
    "    \n",
    "    # Get predicted class\n",
    "    y_pred_class = knn.predict(X_test)\n",
    "    \n",
    "    # Put Accuracy Score in results object\n",
    "    results.append({'k':k,\n",
    "                    'accuracy':metrics.accuracy_score(y_test,y_pred_class),\n",
    "                    'recall':metrics.recall_score(y_test,y_pred_class),                \n",
    "                                                      \n",
    "                   }\n",
    "                  )\n",
    "# Put results from above into a Pandas Dataframe\n",
    "results_df = pd.DataFrame(results)\n",
    "results_df"
   ]
  },
  {
   "cell_type": "code",
   "execution_count": 14,
   "id": "44a288c9",
   "metadata": {
    "scrolled": true
   },
   "outputs": [
    {
     "data": {
      "text/plain": [
       "[<matplotlib.lines.Line2D at 0x16b5cfe7880>]"
      ]
     },
     "execution_count": 14,
     "metadata": {},
     "output_type": "execute_result"
    },
    {
     "data": {
      "image/png": "[encoded data removed]",
      "text/plain": [
       "<Figure size 432x288 with 1 Axes>"
      ]
     },
     "metadata": {
      "needs_background": "light"
     },
     "output_type": "display_data"
    }
   ],
   "source": [
    "plt.plot(results_df['k'],results_df['accuracy'])\n",
    "plt.plot(results_df['k'],results_df['recall'])"
   ]
  },
  {
   "cell_type": "markdown",
   "id": "bafc06fe",
   "metadata": {},
   "source": [
    ">**Decision:**<br>\n",
    "Observation 1: Based on the results above, setting number of neighbors (k) to 9 as this is the lowest value that achieves the highest accuracy value. I set my **k = 9**.\n",
    "\n",
    "<br>\n",
    "\n",
    ">**Re-run kNN using the value selected above:**<br>\n",
    "For this final run of KNN, we will produce a table of performance measures across a range of probability threshold values or can be seen from the plot that post k=5, the accuracy started dropping"
   ]
  },
  {
   "cell_type": "code",
   "execution_count": 15,
   "id": "d15dcc64",
   "metadata": {},
   "outputs": [
    {
     "name": "stdout",
     "output_type": "stream",
     "text": [
      "Training data Accuracy: 0.87\n",
      "Testing data Accuracy: 0.87\n"
     ]
    }
   ],
   "source": [
    "knn = KNeighborsClassifier(n_neighbors=9, weights = 'uniform')\n",
    "knn.fit(X_train,y_train.values.ravel())\n",
    "\n",
    "# Let's do a quick check to see if we have to worry about problems of overfitting.\n",
    "# Remember!  Small values for \"k\" in kNN tend to lead to overfitting.\n",
    "# Large value for \"k\" in kNN tend to produce underfit models\n",
    "y_train_pred_class = knn.predict(X_train)\n",
    "y_test_pred_class = knn.predict(X_test)\n",
    "\n",
    "print('Training data Accuracy:', metrics.accuracy_score(y_train,y_train_pred_class).round(2))\n",
    "print('Testing data Accuracy:', metrics.accuracy_score(y_test,y_test_pred_class).round(2))\n"
   ]
  },
  {
   "cell_type": "code",
   "execution_count": 16,
   "id": "0b19f4fd",
   "metadata": {
    "scrolled": true
   },
   "outputs": [
    {
     "name": "stderr",
     "output_type": "stream",
     "text": [
      "C:\\Users\\vsagar3\\Anaconda3\\lib\\site-packages\\sklearn\\metrics\\_classification.py:1318: UndefinedMetricWarning: Precision is ill-defined and being set to 0.0 due to no predicted samples. Use `zero_division` parameter to control this behavior.\n",
      "  _warn_prf(average, modifier, msg_start, len(result))\n",
      "C:\\Users\\vsagar3\\Anaconda3\\lib\\site-packages\\sklearn\\metrics\\_classification.py:1318: UndefinedMetricWarning: Precision is ill-defined and being set to 0.0 due to no predicted samples. Use `zero_division` parameter to control this behavior.\n",
      "  _warn_prf(average, modifier, msg_start, len(result))\n",
      "C:\\Users\\vsagar3\\Anaconda3\\lib\\site-packages\\sklearn\\metrics\\_classification.py:1318: UndefinedMetricWarning: Precision is ill-defined and being set to 0.0 due to no predicted samples. Use `zero_division` parameter to control this behavior.\n",
      "  _warn_prf(average, modifier, msg_start, len(result))\n",
      "C:\\Users\\vsagar3\\Anaconda3\\lib\\site-packages\\sklearn\\metrics\\_classification.py:1318: UndefinedMetricWarning: Precision is ill-defined and being set to 0.0 due to no predicted samples. Use `zero_division` parameter to control this behavior.\n",
      "  _warn_prf(average, modifier, msg_start, len(result))\n"
     ]
    },
    {
     "data": {
      "text/html": [
       "<div>\n",
       "<style scoped>\n",
       "    .dataframe tbody tr th:only-of-type {\n",
       "        vertical-align: middle;\n",
       "    }\n",
       "\n",
       "    .dataframe tbody tr th {\n",
       "        vertical-align: top;\n",
       "    }\n",
       "\n",
       "    .dataframe thead th {\n",
       "        text-align: right;\n",
       "    }\n",
       "</style>\n",
       "<table border=\"1\" class=\"dataframe\">\n",
       "  <thead>\n",
       "    <tr style=\"text-align: right;\">\n",
       "      <th></th>\n",
       "      <th>threshold</th>\n",
       "      <th>TP</th>\n",
       "      <th>TN</th>\n",
       "      <th>FP</th>\n",
       "      <th>FN</th>\n",
       "      <th>Precision</th>\n",
       "      <th>Recall</th>\n",
       "      <th>Accuracy</th>\n",
       "      <th>F1 Score</th>\n",
       "    </tr>\n",
       "  </thead>\n",
       "  <tbody>\n",
       "    <tr>\n",
       "      <th>0</th>\n",
       "      <td>0.00</td>\n",
       "      <td>3</td>\n",
       "      <td>0</td>\n",
       "      <td>12</td>\n",
       "      <td>0</td>\n",
       "      <td>0.20</td>\n",
       "      <td>1.00</td>\n",
       "      <td>0.20</td>\n",
       "      <td>0.33</td>\n",
       "    </tr>\n",
       "    <tr>\n",
       "      <th>1</th>\n",
       "      <td>0.10</td>\n",
       "      <td>3</td>\n",
       "      <td>8</td>\n",
       "      <td>4</td>\n",
       "      <td>0</td>\n",
       "      <td>0.43</td>\n",
       "      <td>1.00</td>\n",
       "      <td>0.73</td>\n",
       "      <td>0.60</td>\n",
       "    </tr>\n",
       "    <tr>\n",
       "      <th>2</th>\n",
       "      <td>0.20</td>\n",
       "      <td>2</td>\n",
       "      <td>10</td>\n",
       "      <td>2</td>\n",
       "      <td>1</td>\n",
       "      <td>0.50</td>\n",
       "      <td>0.67</td>\n",
       "      <td>0.80</td>\n",
       "      <td>0.57</td>\n",
       "    </tr>\n",
       "    <tr>\n",
       "      <th>3</th>\n",
       "      <td>0.30</td>\n",
       "      <td>2</td>\n",
       "      <td>10</td>\n",
       "      <td>2</td>\n",
       "      <td>1</td>\n",
       "      <td>0.50</td>\n",
       "      <td>0.67</td>\n",
       "      <td>0.80</td>\n",
       "      <td>0.57</td>\n",
       "    </tr>\n",
       "    <tr>\n",
       "      <th>4</th>\n",
       "      <td>0.40</td>\n",
       "      <td>2</td>\n",
       "      <td>10</td>\n",
       "      <td>2</td>\n",
       "      <td>1</td>\n",
       "      <td>0.50</td>\n",
       "      <td>0.67</td>\n",
       "      <td>0.80</td>\n",
       "      <td>0.57</td>\n",
       "    </tr>\n",
       "    <tr>\n",
       "      <th>5</th>\n",
       "      <td>0.50</td>\n",
       "      <td>2</td>\n",
       "      <td>11</td>\n",
       "      <td>1</td>\n",
       "      <td>1</td>\n",
       "      <td>0.67</td>\n",
       "      <td>0.67</td>\n",
       "      <td>0.87</td>\n",
       "      <td>0.67</td>\n",
       "    </tr>\n",
       "    <tr>\n",
       "      <th>6</th>\n",
       "      <td>0.60</td>\n",
       "      <td>1</td>\n",
       "      <td>11</td>\n",
       "      <td>1</td>\n",
       "      <td>2</td>\n",
       "      <td>0.50</td>\n",
       "      <td>0.33</td>\n",
       "      <td>0.80</td>\n",
       "      <td>0.40</td>\n",
       "    </tr>\n",
       "    <tr>\n",
       "      <th>7</th>\n",
       "      <td>0.70</td>\n",
       "      <td>0</td>\n",
       "      <td>12</td>\n",
       "      <td>0</td>\n",
       "      <td>3</td>\n",
       "      <td>0.00</td>\n",
       "      <td>0.00</td>\n",
       "      <td>0.80</td>\n",
       "      <td>0.00</td>\n",
       "    </tr>\n",
       "    <tr>\n",
       "      <th>8</th>\n",
       "      <td>0.80</td>\n",
       "      <td>0</td>\n",
       "      <td>12</td>\n",
       "      <td>0</td>\n",
       "      <td>3</td>\n",
       "      <td>0.00</td>\n",
       "      <td>0.00</td>\n",
       "      <td>0.80</td>\n",
       "      <td>0.00</td>\n",
       "    </tr>\n",
       "    <tr>\n",
       "      <th>9</th>\n",
       "      <td>0.90</td>\n",
       "      <td>0</td>\n",
       "      <td>12</td>\n",
       "      <td>0</td>\n",
       "      <td>3</td>\n",
       "      <td>0.00</td>\n",
       "      <td>0.00</td>\n",
       "      <td>0.80</td>\n",
       "      <td>0.00</td>\n",
       "    </tr>\n",
       "    <tr>\n",
       "      <th>10</th>\n",
       "      <td>1.00</td>\n",
       "      <td>0</td>\n",
       "      <td>12</td>\n",
       "      <td>0</td>\n",
       "      <td>3</td>\n",
       "      <td>0.00</td>\n",
       "      <td>0.00</td>\n",
       "      <td>0.80</td>\n",
       "      <td>0.00</td>\n",
       "    </tr>\n",
       "  </tbody>\n",
       "</table>\n",
       "</div>"
      ],
      "text/plain": [
       "    threshold  TP  TN  FP  FN  Precision  Recall  Accuracy  F1 Score\n",
       "0        0.00   3   0  12   0       0.20    1.00      0.20      0.33\n",
       "1        0.10   3   8   4   0       0.43    1.00      0.73      0.60\n",
       "2        0.20   2  10   2   1       0.50    0.67      0.80      0.57\n",
       "3        0.30   2  10   2   1       0.50    0.67      0.80      0.57\n",
       "4        0.40   2  10   2   1       0.50    0.67      0.80      0.57\n",
       "5        0.50   2  11   1   1       0.67    0.67      0.87      0.67\n",
       "6        0.60   1  11   1   2       0.50    0.33      0.80      0.40\n",
       "7        0.70   0  12   0   3       0.00    0.00      0.80      0.00\n",
       "8        0.80   0  12   0   3       0.00    0.00      0.80      0.00\n",
       "9        0.90   0  12   0   3       0.00    0.00      0.80      0.00\n",
       "10       1.00   0  12   0   3       0.00    0.00      0.80      0.00"
      ]
     },
     "execution_count": 16,
     "metadata": {},
     "output_type": "execute_result"
    }
   ],
   "source": [
    "class_perf_measures(knn,X_test,y_test)"
   ]
  },
  {
   "attachments": {
    "image-2.png": {
     "image/png": "[encoded data removed]"
    },
    "image.png": {
     "image/png": "[encoded data removed]"
    }
   },
   "cell_type": "markdown",
   "id": "215698ab",
   "metadata": {},
   "source": [
    "Overview of the Knn class performance for k = 9 <br>\n",
    "threshold: ranges from 0-1, is the probability for selecting the 1 class which is the task is completed <br>\n",
    "TP, TN, FP & FN are the classes which will be discussed in details below <br>\n",
    "Recall : ![image.png](attachment:image.png)\n",
    "Precision : ![image-2.png](attachment:image-2.png)"
   ]
  },
  {
   "cell_type": "markdown",
   "id": "af1c6250",
   "metadata": {},
   "source": [
    "> **Model 2 - Logistics** <a class=\"anchor\" id=\"second-model\"></a>\n",
    "<br>\n",
    ">To do:<br>\n",
    ">1. Fit the model. <br>"
   ]
  },
  {
   "cell_type": "code",
   "execution_count": 17,
   "id": "a903a37c",
   "metadata": {},
   "outputs": [
    {
     "name": "stdout",
     "output_type": "stream",
     "text": [
      "Training data Accuracy: 0.92\n",
      "Testing data Accuracy: 0.8\n"
     ]
    }
   ],
   "source": [
    "lr_model = LogisticRegression()\n",
    "lr_model.fit(X_train,y_train.values.ravel())\n",
    "\n",
    "y_train_pred_class = lr_model.predict(X_train)\n",
    "y_test_pred_class = lr_model.predict(X_test)\n",
    "\n",
    "print('Training data Accuracy:', metrics.accuracy_score(y_train,y_train_pred_class).round(2))\n",
    "print('Testing data Accuracy:', metrics.accuracy_score(y_test,y_test_pred_class).round(2))"
   ]
  },
  {
   "cell_type": "code",
   "execution_count": 18,
   "id": "febee490",
   "metadata": {},
   "outputs": [
    {
     "name": "stderr",
     "output_type": "stream",
     "text": [
      "C:\\Users\\vsagar3\\Anaconda3\\lib\\site-packages\\sklearn\\metrics\\_classification.py:1318: UndefinedMetricWarning: Precision is ill-defined and being set to 0.0 due to no predicted samples. Use `zero_division` parameter to control this behavior.\n",
      "  _warn_prf(average, modifier, msg_start, len(result))\n"
     ]
    },
    {
     "data": {
      "text/html": [
       "<div>\n",
       "<style scoped>\n",
       "    .dataframe tbody tr th:only-of-type {\n",
       "        vertical-align: middle;\n",
       "    }\n",
       "\n",
       "    .dataframe tbody tr th {\n",
       "        vertical-align: top;\n",
       "    }\n",
       "\n",
       "    .dataframe thead th {\n",
       "        text-align: right;\n",
       "    }\n",
       "</style>\n",
       "<table border=\"1\" class=\"dataframe\">\n",
       "  <thead>\n",
       "    <tr style=\"text-align: right;\">\n",
       "      <th></th>\n",
       "      <th>threshold</th>\n",
       "      <th>TP</th>\n",
       "      <th>TN</th>\n",
       "      <th>FP</th>\n",
       "      <th>FN</th>\n",
       "      <th>Precision</th>\n",
       "      <th>Recall</th>\n",
       "      <th>Accuracy</th>\n",
       "      <th>F1 Score</th>\n",
       "    </tr>\n",
       "  </thead>\n",
       "  <tbody>\n",
       "    <tr>\n",
       "      <th>0</th>\n",
       "      <td>0.00</td>\n",
       "      <td>3</td>\n",
       "      <td>0</td>\n",
       "      <td>12</td>\n",
       "      <td>0</td>\n",
       "      <td>0.20</td>\n",
       "      <td>1.00</td>\n",
       "      <td>0.20</td>\n",
       "      <td>0.33</td>\n",
       "    </tr>\n",
       "    <tr>\n",
       "      <th>1</th>\n",
       "      <td>0.10</td>\n",
       "      <td>3</td>\n",
       "      <td>9</td>\n",
       "      <td>3</td>\n",
       "      <td>0</td>\n",
       "      <td>0.50</td>\n",
       "      <td>1.00</td>\n",
       "      <td>0.80</td>\n",
       "      <td>0.67</td>\n",
       "    </tr>\n",
       "    <tr>\n",
       "      <th>2</th>\n",
       "      <td>0.20</td>\n",
       "      <td>2</td>\n",
       "      <td>10</td>\n",
       "      <td>2</td>\n",
       "      <td>1</td>\n",
       "      <td>0.50</td>\n",
       "      <td>0.67</td>\n",
       "      <td>0.80</td>\n",
       "      <td>0.57</td>\n",
       "    </tr>\n",
       "    <tr>\n",
       "      <th>3</th>\n",
       "      <td>0.30</td>\n",
       "      <td>2</td>\n",
       "      <td>10</td>\n",
       "      <td>2</td>\n",
       "      <td>1</td>\n",
       "      <td>0.50</td>\n",
       "      <td>0.67</td>\n",
       "      <td>0.80</td>\n",
       "      <td>0.57</td>\n",
       "    </tr>\n",
       "    <tr>\n",
       "      <th>4</th>\n",
       "      <td>0.40</td>\n",
       "      <td>2</td>\n",
       "      <td>10</td>\n",
       "      <td>2</td>\n",
       "      <td>1</td>\n",
       "      <td>0.50</td>\n",
       "      <td>0.67</td>\n",
       "      <td>0.80</td>\n",
       "      <td>0.57</td>\n",
       "    </tr>\n",
       "    <tr>\n",
       "      <th>5</th>\n",
       "      <td>0.50</td>\n",
       "      <td>1</td>\n",
       "      <td>11</td>\n",
       "      <td>1</td>\n",
       "      <td>2</td>\n",
       "      <td>0.50</td>\n",
       "      <td>0.33</td>\n",
       "      <td>0.80</td>\n",
       "      <td>0.40</td>\n",
       "    </tr>\n",
       "    <tr>\n",
       "      <th>6</th>\n",
       "      <td>0.60</td>\n",
       "      <td>1</td>\n",
       "      <td>11</td>\n",
       "      <td>1</td>\n",
       "      <td>2</td>\n",
       "      <td>0.50</td>\n",
       "      <td>0.33</td>\n",
       "      <td>0.80</td>\n",
       "      <td>0.40</td>\n",
       "    </tr>\n",
       "    <tr>\n",
       "      <th>7</th>\n",
       "      <td>0.70</td>\n",
       "      <td>1</td>\n",
       "      <td>11</td>\n",
       "      <td>1</td>\n",
       "      <td>2</td>\n",
       "      <td>0.50</td>\n",
       "      <td>0.33</td>\n",
       "      <td>0.80</td>\n",
       "      <td>0.40</td>\n",
       "    </tr>\n",
       "    <tr>\n",
       "      <th>8</th>\n",
       "      <td>0.80</td>\n",
       "      <td>1</td>\n",
       "      <td>11</td>\n",
       "      <td>1</td>\n",
       "      <td>2</td>\n",
       "      <td>0.50</td>\n",
       "      <td>0.33</td>\n",
       "      <td>0.80</td>\n",
       "      <td>0.40</td>\n",
       "    </tr>\n",
       "    <tr>\n",
       "      <th>9</th>\n",
       "      <td>0.90</td>\n",
       "      <td>1</td>\n",
       "      <td>11</td>\n",
       "      <td>1</td>\n",
       "      <td>2</td>\n",
       "      <td>0.50</td>\n",
       "      <td>0.33</td>\n",
       "      <td>0.80</td>\n",
       "      <td>0.40</td>\n",
       "    </tr>\n",
       "    <tr>\n",
       "      <th>10</th>\n",
       "      <td>1.00</td>\n",
       "      <td>0</td>\n",
       "      <td>12</td>\n",
       "      <td>0</td>\n",
       "      <td>3</td>\n",
       "      <td>0.00</td>\n",
       "      <td>0.00</td>\n",
       "      <td>0.80</td>\n",
       "      <td>0.00</td>\n",
       "    </tr>\n",
       "  </tbody>\n",
       "</table>\n",
       "</div>"
      ],
      "text/plain": [
       "    threshold  TP  TN  FP  FN  Precision  Recall  Accuracy  F1 Score\n",
       "0        0.00   3   0  12   0       0.20    1.00      0.20      0.33\n",
       "1        0.10   3   9   3   0       0.50    1.00      0.80      0.67\n",
       "2        0.20   2  10   2   1       0.50    0.67      0.80      0.57\n",
       "3        0.30   2  10   2   1       0.50    0.67      0.80      0.57\n",
       "4        0.40   2  10   2   1       0.50    0.67      0.80      0.57\n",
       "5        0.50   1  11   1   2       0.50    0.33      0.80      0.40\n",
       "6        0.60   1  11   1   2       0.50    0.33      0.80      0.40\n",
       "7        0.70   1  11   1   2       0.50    0.33      0.80      0.40\n",
       "8        0.80   1  11   1   2       0.50    0.33      0.80      0.40\n",
       "9        0.90   1  11   1   2       0.50    0.33      0.80      0.40\n",
       "10       1.00   0  12   0   3       0.00    0.00      0.80      0.00"
      ]
     },
     "execution_count": 18,
     "metadata": {},
     "output_type": "execute_result"
    }
   ],
   "source": [
    "class_perf_measures(lr_model,X_test,y_test)"
   ]
  },
  {
   "cell_type": "markdown",
   "id": "8a023082",
   "metadata": {},
   "source": [
    ">**Winning Model:**<br>\n",
    "We need to quickly decide which modeling framework to go forward with<br>\n",
    "To keep this simple - I'm going to use AUC and will choose the model that gives us the highest value\n",
    "\n",
    "* [Go to Top](#table-of-content)"
   ]
  },
  {
   "cell_type": "code",
   "execution_count": 19,
   "id": "5ff7436c",
   "metadata": {},
   "outputs": [
    {
     "name": "stderr",
     "output_type": "stream",
     "text": [
      "C:\\Users\\vsagar3\\Anaconda3\\lib\\site-packages\\sklearn\\utils\\deprecation.py:87: FutureWarning: Function plot_roc_curve is deprecated; Function :func:`plot_roc_curve` is deprecated in 1.0 and will be removed in 1.2. Use one of the class methods: :meth:`sklearn.metric.RocCurveDisplay.from_predictions` or :meth:`sklearn.metric.RocCurveDisplay.from_estimator`.\n",
      "  warnings.warn(msg, category=FutureWarning)\n"
     ]
    },
    {
     "data": {
      "image/png": "[encoded data removed]",
      "text/plain": [
       "<Figure size 432x288 with 1 Axes>"
      ]
     },
     "metadata": {
      "needs_background": "light"
     },
     "output_type": "display_data"
    },
    {
     "name": "stderr",
     "output_type": "stream",
     "text": [
      "C:\\Users\\vsagar3\\Anaconda3\\lib\\site-packages\\sklearn\\utils\\deprecation.py:87: FutureWarning: Function plot_roc_curve is deprecated; Function :func:`plot_roc_curve` is deprecated in 1.0 and will be removed in 1.2. Use one of the class methods: :meth:`sklearn.metric.RocCurveDisplay.from_predictions` or :meth:`sklearn.metric.RocCurveDisplay.from_estimator`.\n",
      "  warnings.warn(msg, category=FutureWarning)\n"
     ]
    },
    {
     "data": {
      "image/png": "[encoded data removed]",
      "text/plain": [
       "<Figure size 432x288 with 1 Axes>"
      ]
     },
     "metadata": {
      "needs_background": "light"
     },
     "output_type": "display_data"
    }
   ],
   "source": [
    "# ROC curve for kNN\n",
    "metrics.plot_roc_curve(knn,X_test,y_test)\n",
    "plt.show()\n",
    "\n",
    "# ROC curve for Logistic Model\n",
    "metrics.plot_roc_curve(lr_model,X_test,y_test)\n",
    "plt.show()"
   ]
  },
  {
   "cell_type": "markdown",
   "id": "25977af9",
   "metadata": {},
   "source": [
    ">**Decision Point:**<br>\n",
    "AUC is highest for our knn Model so I will use that model to further evaluate probability thresholds and corresponding performance measures. \n",
    "Note - There is a lot of overfitting in logistic model due to small dataset. Hence, amother reason to select Knn."
   ]
  },
  {
   "attachments": {
    "image.png": {
     "image/png": "[encoded data removed]"
    }
   },
   "cell_type": "markdown",
   "id": "3e33a7aa",
   "metadata": {},
   "source": [
    "### KNN Model class performance evaluation\n",
    "**Confusion Matrix**\n",
    "\n",
    "![image.png](attachment:image.png)"
   ]
  },
  {
   "cell_type": "markdown",
   "id": "32f66ede",
   "metadata": {},
   "source": [
    "1. **Prob Threshold = 0.8** (High threshold): \n",
    "\n",
    "|         |              |   Predicted  |          |   |\n",
    "|---------|--------------|:------------:|:--------:|---|\n",
    "|         |              | Complete     | Incomplete   |   |\n",
    "| Actuals | Complete     | 12           | **00**  |   |\n",
    "|         | Incomplete   | **03**       | 00      |   |\n",
    "\n",
    ">- **Interpretation**: The model accurately predicts (by a measure of 80%) whether the task is compeletd or not. Since Accuracy is not the paramount in this problem from the operations team perspective, the agenda is to reduce the incomplete task prediciton class (FN). With high threshold, it is expected to have more incomplete task prediction given the dataset is large (FN + FP).In our case \"positive\" means \"flight is delayed.\"  <br>\n",
    "Precision :Out of all the tasks the model predicted, 0% of the times it was actually delayed (TP- 03). \n",
    "Recall : Out of all the tasks that were incomplete, our model was able to correctly identify only 0% of them, which is extremely poor. These numbers does not make a lot of sense dure to small dataset but percentage can be a better measure to see.\n",
    "\n",
    ">- **False Positives FPs & Business Impact** : False Positive indicates that the model classified the task as incomplete when it was completed on time, we see no Fasle positive (FP) class with this high threshold. The model has not predicted any task as incomplete due to high threshold and small dataset. \n",
    "It's business impact can be major as we are not predicting any task as incomplete, it is better to flip a coin in this case as our model is not predicting anything. \n",
    "It means that no measure is taken in minimising the loss that might occur due to incompletion of task on time which can be very expensive for any team given high burn projects and clients in the organisations. \n",
    "\n",
    ">- **False Negative FNs & Business Impact** - with no FP, it is expected to have LOT more FN class ( 03 in our case due to small dataset). It implies that with 0.8 threshold, the operation team will consider 25% of the tasks are complete when they are actually incomplete. It extremely is a loss of huge business as it can involve following cost: \n",
    ">1. It leads to incorrect communication to the client which involves huge overall project cost.\n",
    ">2. There are multiple teams working on a project, it can distrupt everyone's schedule and create additional cost in achieving the task.\n",
    ">3. The leadership and client has power to terminate the project given incorrect timelines, resources management which impacts the overall organisation reputation. \n",
    ">4. Therefore, it is correct to say that predicting the task is complete when it is not is more costlier to the operations team.\n",
    "Hence, False Negatives are more costlier that False Positive in predicting flight status\n",
    "\n",
    ">**Conclusion** Since our goal is to minimise the False Negative i.e. **minimising predicting the task as complete when it is actually incomplete**, hence we will move to the next threshold\n",
    "\n",
    ">Note - The numbers are very skewed due to small dataset.\n",
    "<br><br>"
   ]
  },
  {
   "cell_type": "markdown",
   "id": "89d1247a",
   "metadata": {},
   "source": [
    "2. **Prob Threshold = 0.4** (intermediate threshold): \n",
    "\n",
    "\n",
    "|         |              |   Predicted  |          |   |\n",
    "|---------|--------------|:------------:|:--------:|---|\n",
    "|         |              | Complete     | Incomplete    |   |\n",
    "| Actuals | Complete     | 11         | **01**  |   |\n",
    "|         | Incomplete   | **02**       | 01       |   |\n",
    "\n",
    ">- **Interpretation**: at 40% threshold, the model accurately predicts (by a measure of 80%) whether the task is compeletd or not. Since Accuracy is not the paramount in this problem from the operations team perspective, the agenda is to reduce the incomplete task prediciton class (FN). With high threshold, it is expected to have more incomplete task prediction given the dataset is large (FN + FP).In our case \"positive\" means \"flight is delayed.\"  <br>\n",
    "Precision :Out of all the tasks the model predicted, 50% of the times it was actually delayed (TP- 02). \n",
    "Recall : Out of all the tasks that were incomplete, our model was able to correctly identify only 33% of them, which is extremely poor. These numbers does not make a lot of sense dure to small dataset but percentage can be a better measure to see.\n",
    "\n",
    ">- **False Positives FPs & Business Impact** : False Positive indicates that the model classified the task as incomplete when it was completed on time, we see very less Fasle positive (FP) class with this threshold (01). \n",
    "It's business impact can be major as we are not predicting any task as incomplete, it is better to flip a coin in this case as our model is not predicting anything. \n",
    "It means that no measure is taken in minimising the loss that might occur due to incompletion of task on time which can be very expensive for any team given high burn projects and clients in the organisations. \n",
    "\n",
    ">- **False Negative FNs & Business Impact** - with just 1 FP, it is expected to have more FN class ( 02 in our case due to small dataset). It implies that with 0.4 threshold, the operation team will consider 16% of the tasks are complete when they are actually incomplete. It again has business loss as it can involve following cost: \n",
    ">1. It leads to incorrect communication to the client which involves huge overall project cost.\n",
    ">2. There are multiple teams working on a project, it can distrupt everyone's schedule and create additional cost in achieving the task.\n",
    ">3. The leadership and client has power to terminate the project given incorrect timelines, resources management which impacts the overall organisation reputation. \n",
    ">4. Therefore, it is correct to say that predicting the task is complete when it is not is more costlier to the operations team.\n",
    "Hence, False Negatives are more costlier that False Positive in predicting flight status\n",
    "\n",
    ">- **Comparison** : \n",
    ">- Even though, we do see slight improvement in FN at 0.4 threshold as compared to the 0.8 threshold with reduced # of incorrect predcitions . There is also slight improvement in predicition the task as complete (from 25% to 17%) \n",
    ">- Accuracy - There is no improvemnet in the accuracy at the different threshold (0.8 & 0.4)\n",
    ">- Precision - There is quiet improvemnet in the % of correct task prediction w.r.t to overall prediciton\n",
    ">- **Recall** - Out of all the incomplete tasks, the model predicted better for 0.4 threshold (33%) as compared to 0.8 threshold (with no predicition)\n",
    "\n",
    ">**Conclusion** Since our goal is to minimise the False Negative i.e. **minimising predicting the task as complete when it is actually incomplete**, hence we will move to the next threshold\n",
    "\n",
    ">Note - The numbers are very skewed due to small dataset.\n",
    "<br><br>\n"
   ]
  },
  {
   "cell_type": "markdown",
   "id": "231aef94",
   "metadata": {},
   "source": [
    "3. **Prob Threshold = 0.2** (Low threshold): \n",
    "\n",
    "|         |              |   Predicted  |          |   |\n",
    "|---------|--------------|:------------:|:--------:|---|\n",
    "|         |              | Complete    | Incomplete   |   |\n",
    "| Actuals | Complete    | 10          | **2**  |   |\n",
    "|         | Incomplete  |**1**       | 02       |   |\n",
    "\n",
    "\n",
    ">- **Interpretation**: The model accurately predicts (by a measure of 80%) whether the task will be completed or not. However, accuracy is not the paramount in this problem since for the operations team, the agenda is to minimize the cost associated with on time incomplete tasks. In our case \"positive\" means \"the task is completed.\" \n",
    "\n",
    ">- **False Positives FPs & Business Impact** : False Positive indicates that the model predicted the task at a given time is incomplete when it should not, (FP) class -2. It means, out of the total predictions, the model 50% of times will predict the task as incomplete, which is actually equivalent to flipping a coin.\n",
    "This is a problem for the operations team. Since it leads to the following problems:<br>\n",
    ">1. If the task is completed and is predicted to be incomplete, it involves wastage of time. Hence time management of the operation teams suffer.\n",
    ">2. With poor time management, it involves wastage of resources. That is the employee are not working for what they are paid for.\n",
    ">3. In our case, incorrect communication with the client/ leadership impacts the firm's reputation\n",
    "\n",
    ">- **False Negative FNs & Business Impact** - with more FP, it is expected to have less FN - 01 (dataset is small). It implies that with 0.2 threshold, only 1 task will be predicted as complete when it is actual incomplete. Out of all the task that were incomplete, our modle was able to predict 67% of them. \n",
    "From the operations teams' perspective, it is more costlier to say that the task is complete when it is actually not accomplished.\n",
    "1. It leads to incorrect communication to the client which involves huge overall project cost.\n",
    "2. There are multiple teams work on a project, it can distrupt evryone's schedule and create additional cost in achieving the task.\n",
    "3. The leadership and client has power to terminate the project given incorrect time, resources management which impacts the overall organisation reputation. \n",
    "4. Therefore, it is correct to say that predicting the task is complete when it is not is more costlier to the operations team.\n",
    "(that is minimise fasle negative - recall)\n",
    "\n",
    ">- **Comparison** -\n",
    ">- At 0.2 probability threshold, there is no improvement in the precision & recall from 0.4 threshold (50%, 67% resp), which potentially can be a result of small dataset. \n",
    ">- However, there is small change in the FN count, which is agenda of the problem as it involves more cost for the operation team as compared to the FP (predicted the task as incomplete when it is done)\n",
    "    \n",
    ">- To conclude, Because we want to reduce the FN which are more expensive for the operations team, we would keep the threshold low\n",
    "<br><br>\n"
   ]
  },
  {
   "cell_type": "markdown",
   "id": "fdc6f8b2",
   "metadata": {},
   "source": [
    "4. **My choice of Prob. Threshold = 0.4 **\n",
    "\n",
    ">- Since there is no change in the Recall (concerning FN) when the threshold is 0.2 & 0.4, I choose 40% as my threshold for my operations team to consider the task as complete.  \n",
    "Though it can vary upon team to team and dataset to dataset but, as per my opinion the threshold should be 40% given the dataset. \n",
    "Higher probability threshold incure more cost involved in wrong predictions. But from an operation's perspective, with lower incomplete prediciton threshold, there will be less cost (time cost, resource cost, firm reputation) involved. Therefore it is rather better to find a way to track the status of the task in cases when the task is predicted as complete like weekly or monthly touchpoints or timeline trackers.\n"
   ]
  },
  {
   "cell_type": "code",
   "execution_count": 20,
   "id": "7bcaba34",
   "metadata": {},
   "outputs": [],
   "source": [
    "import pickle\n",
    "pickle_out = open('classifier1', mode='wb')\n",
    "pickle.dump([knn,features_means, features_std], pickle_out)\n",
    "pickle_out.close()"
   ]
  },
  {
   "cell_type": "code",
   "execution_count": 22,
   "id": "0be4ffb1",
   "metadata": {},
   "outputs": [
    {
     "name": "stdout",
     "output_type": "stream",
     "text": [
      "Writing app1.py\n"
     ]
    }
   ],
   "source": [
    "%%writefile app1.py\n",
    "\n",
    "import pickle\n",
    "import streamlit as st\n",
    "import math\n",
    "import pandas as pd\n",
    "import numpy as np\n",
    "\n",
    "\n",
    "pickle_in = open('classifier1', 'rb')\n",
    "knn,features_means, features_std = pickle.load(pickle_in)                 #Loading the classifier, mean, and standard deviation\n",
    "\n",
    "\n",
    "st.write(\"Loan Approval Prediction\")\n",
    "\n",
    "@st.cache()\n",
    "\n",
    "# Define the function which will make the prediction using data\n",
    "# inputs from users\n",
    "\n",
    "def getColumnNames():                                                   # returning the column names\n",
    "    return ['employee_experience', 'training_level4', 'training_level6',\n",
    "       'training_level8']\n",
    "\n",
    "def prediction(employee_experience, training_level):                   # creating the prediction function\n",
    "    \n",
    "    #initialization                                                    # defining a dictionary for UI dropdown \n",
    "    training_levels = {'Traing Level 4':0,\n",
    "                'Traing Level 6':0,\n",
    "                'Traing Level 8':0}\n",
    "    \n",
    "    #value population\n",
    "    for level in training_levels:\n",
    "        if level == training_level:\n",
    "            training_levels[level] = 1\n",
    "            \n",
    "    X_test_df = pd.DataFrame([[employee_experience,                   # creating a new dataframe \n",
    "            training_levels.get('Traing Level 4'),\n",
    "            training_levels.get('Traing Level 6'),\n",
    "            training_levels.get('Traing Level 8')]], \n",
    "        columns=getColumnNames())\n",
    "    \n",
    "    \n",
    "    # Make predictions\n",
    "    prediction = knn.predict_proba(X_test_df)\n",
    "    THRESHOLD = 0.4\n",
    "    if prediction[0][1] > THRESHOLD:\n",
    "        return 'Task will be completed'\n",
    "    else: \n",
    "        return 'Task will not be completed'\n",
    "\n",
    "# This is the main function in which we define our webpage\n",
    "def main():\n",
    "    \n",
    "    # Create input fields\n",
    "    employee_experience = st.number_input(\"Employees experience\",\n",
    "                                  min_value=2.0,\n",
    "                                  max_value=14.0,\n",
    "                                  value=7.0,\n",
    "                                  step=0.5,\n",
    "                                 )\n",
    "               \n",
    "    training_level = st.selectbox('Select the training level of employee',\n",
    "                             ('Traing Level 4','Traing Level 6','Traing Level 8'))\n",
    "    \n",
    "    result = \"\"\n",
    "    \n",
    "    # When 'Predict' is clicked, make the prediction and store it\n",
    "    if st.button(\"Task Status Prediction\"):\n",
    "        result = prediction(employee_experience, training_level)\n",
    "        st.success(result)  \n",
    "  \n",
    "            \n",
    "        \n",
    "if __name__=='__main__':\n",
    "    main()"
   ]
  },
  {
   "cell_type": "code",
   "execution_count": 23,
   "id": "3fe33d5b",
   "metadata": {},
   "outputs": [
    {
     "name": "stdout",
     "output_type": "stream",
     "text": [
      "^C\n"
     ]
    }
   ],
   "source": [
    "!streamlit run app1.py"
   ]
  },
  {
   "cell_type": "code",
   "execution_count": null,
   "id": "1ec680be",
   "metadata": {},
   "outputs": [],
   "source": []
  }
 ],
 "metadata": {
  "kernelspec": {
   "display_name": "Python 3 (ipykernel)",
   "language": "python",
   "name": "python3"
  },
  "language_info": {
   "codemirror_mode": {
    "name": "ipython",
    "version": 3
   },
   "file_extension": ".py",
   "mimetype": "text/x-python",
   "name": "python",
   "nbconvert_exporter": "python",
   "pygments_lexer": "ipython3",
   "version": "3.9.12"
  }
 },
 "nbformat": 4,
 "nbformat_minor": 5
}
